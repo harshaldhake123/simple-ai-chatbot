{
 "cells": [
  {
   "cell_type": "code",
   "execution_count": 1,
   "id": "d9af006d-b7c7-4359-8aef-0652966b5135",
   "metadata": {},
   "outputs": [],
   "source": [
    "from openai import OpenAI\n",
    "import config"
   ]
  },
  {
   "cell_type": "code",
   "execution_count": 2,
   "id": "ce14f7d0-3756-44fd-9dda-3f30b7dfef68",
   "metadata": {},
   "outputs": [],
   "source": [
    "api_key=config.api_key"
   ]
  },
  {
   "cell_type": "code",
   "execution_count": 3,
   "id": "4ae5b426-2e07-40c9-83bd-927ded53c0cc",
   "metadata": {},
   "outputs": [],
   "source": [
    "OpenAI.api_key=api_key\n",
    "client = OpenAI(api_key=api_key)"
   ]
  },
  {
   "cell_type": "code",
   "execution_count": 4,
   "id": "0790e6c4-92be-416c-8069-d3e7e2dbe281",
   "metadata": {},
   "outputs": [],
   "source": [
    "def generate_output(prompt):\n",
    "    response=client.responses.create(\n",
    "        model=\"gpt-4.1-mini\",\n",
    "        input=prompt\n",
    "    )\n",
    "    return response.output_text"
   ]
  },
  {
   "cell_type": "code",
   "execution_count": 5,
   "id": "1058a450-27e2-48ba-afb2-08c8edc11c50",
   "metadata": {},
   "outputs": [],
   "source": [
    "prompt=\"Create a haiku of 20 words\""
   ]
  },
  {
   "cell_type": "code",
   "execution_count": 6,
   "id": "6144a0d2-6c54-4096-b6e9-7d153d13eec2",
   "metadata": {},
   "outputs": [
    {
     "name": "stdout",
     "output_type": "stream",
     "text": [
      "Whispering spring breeze,  \n",
      "Cherry blossoms dance with light,  \n",
      "Soft earth hums with life.\n"
     ]
    }
   ],
   "source": [
    "generated_text=generate_output(prompt)\n",
    "print(generated_text)"
   ]
  },
  {
   "cell_type": "code",
   "execution_count": null,
   "id": "db6d79f3-59db-4415-bcec-cc28b4527b85",
   "metadata": {},
   "outputs": [],
   "source": []
  }
 ],
 "metadata": {
  "kernelspec": {
   "display_name": "llm-training-env",
   "language": "python",
   "name": "python3"
  },
  "language_info": {
   "codemirror_mode": {
    "name": "ipython",
    "version": 3
   },
   "file_extension": ".py",
   "mimetype": "text/x-python",
   "name": "python",
   "nbconvert_exporter": "python",
   "pygments_lexer": "ipython3",
   "version": "3.12.11"
  }
 },
 "nbformat": 4,
 "nbformat_minor": 5
}
