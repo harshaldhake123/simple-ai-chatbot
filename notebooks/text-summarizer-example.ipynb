{
 "cells": [
  {
   "cell_type": "code",
   "execution_count": 18,
   "id": "da2a85fb",
   "metadata": {},
   "outputs": [],
   "source": [
    "from openai import OpenAI\n",
    "import config\n",
    "\n",
    "client = OpenAI(api_key=config.api_key)"
   ]
  },
  {
   "cell_type": "code",
   "execution_count": 19,
   "id": "27bc7cdc",
   "metadata": {},
   "outputs": [],
   "source": [
    "\n",
    "def text_summarizer(prompt):\n",
    "    response = client.chat.completions.create(\n",
    "        model=\"gpt-4\",\n",
    "        messages=[\n",
    "            {\n",
    "                \"role\": \"system\",\n",
    "                \"content\": \"You will be provided with a block of text. Your task is to extract a list of relevant keywords from it.\"\n",
    "            },\n",
    "            {\n",
    "                \"role\": \"user\",\n",
    "                \"content\": \"A beautiful UFO is falling from the sky and lands on Earth. A 7-foot alien emerges from it.\"\n",
    "            },\n",
    "            {\n",
    "                \"role\": \"assistant\",\n",
    "                \"content\": \"UFO, sky, 7-foot alien, Earth, extraterrestrial encounter\"\n",
    "            },\n",
    "            {\n",
    "                \"role\": \"user\",\n",
    "                \"content\": \"Every April, in the village of Malia, Mayor Umbridge gathers the community under the banyan tree to share knowledge about the upcoming harvest.\"\n",
    "            },\n",
    "            {\n",
    "                \"role\": \"assistant\",\n",
    "                \"content\": \"April, village, Malia, Mayor Umbridge, harvest, banyan tree\"\n",
    "            },\n",
    "            {\n",
    "                \"role\": \"user\",\n",
    "                \"content\": prompt\n",
    "            }\n",
    "        ],\n",
    "        max_tokens=25,\n",
    "        temperature=0.5\n",
    "    )\n",
    "    return response.choices[0].message.content.strip()\n"
   ]
  },
  {
   "cell_type": "code",
   "execution_count": 20,
   "id": "cda659ba",
   "metadata": {},
   "outputs": [
    {
     "name": "stdout",
     "output_type": "stream",
     "text": [
      "Master Oogway was a Kung Fu master who believed in Po's potential to become the Dragon Warrior. His unwavering confidence frustrated Master Shifu.\n"
     ]
    }
   ],
   "source": [
    "prompt = \"Master Oogway was a Kung Fu master who believed in Po's potential to become the Dragon Warrior. His unwavering confidence frustrated Master Shifu.\"\n",
    "print(prompt)\n"
   ]
  },
  {
   "cell_type": "code",
   "execution_count": 21,
   "id": "39495874",
   "metadata": {},
   "outputs": [
    {
     "name": "stdout",
     "output_type": "stream",
     "text": [
      "Master Oogway, Kung Fu master, Po, Dragon Warrior, confidence, Master Shifu\n"
     ]
    }
   ],
   "source": [
    "print(text_summarizer(prompt))"
   ]
  }
 ],
 "metadata": {
  "kernelspec": {
   "display_name": "UdemyCourseEnv",
   "language": "python",
   "name": "python3"
  },
  "language_info": {
   "codemirror_mode": {
    "name": "ipython",
    "version": 3
   },
   "file_extension": ".py",
   "mimetype": "text/x-python",
   "name": "python",
   "nbconvert_exporter": "python",
   "pygments_lexer": "ipython3",
   "version": "3.12.11"
  }
 },
 "nbformat": 4,
 "nbformat_minor": 5
}
