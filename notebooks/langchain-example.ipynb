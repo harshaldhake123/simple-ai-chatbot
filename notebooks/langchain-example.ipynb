{
 "cells": [
  {
   "cell_type": "code",
   "execution_count": 10,
   "id": "bec2ab1b",
   "metadata": {},
   "outputs": [],
   "source": [
    "from langchain_community.document_loaders import WebBaseLoader  # Loads web pages as documents\n",
    "from langchain.text_splitter import RecursiveCharacterTextSplitter  # Splits text into manageable chunks\n",
    "from langchain_openai import OpenAIEmbeddings, ChatOpenAI  # Embeddings and chat model from OpenAI\n",
    "from langchain_community.vectorstores import FAISS  # FAISS for vector similarity search\n",
    "from langchain.memory import ConversationBufferMemory  # Stores conversation history for context\n",
    "from langchain.chains import ConversationalRetrievalChain  # Combines retrieval with conversational QA\n",
    "import config"
   ]
  },
  {
   "cell_type": "code",
   "execution_count": 11,
   "id": "08d6e2fa",
   "metadata": {},
   "outputs": [],
   "source": [
    "# Step 1: Load the webpage content as a document\n",
    "\n",
    "url = \"https://365datascience.com/upcoming-courses/\"\n",
    "loader=WebBaseLoader(url)"
   ]
  },
  {
   "cell_type": "code",
   "execution_count": 12,
   "id": "25bee9e0",
   "metadata": {},
   "outputs": [],
   "source": [
    "raw_documents=loader.load()"
   ]
  },
  {
   "cell_type": "code",
   "execution_count": null,
   "id": "bd9b6e2e",
   "metadata": {},
   "outputs": [],
   "source": [
    "# Step 2: Split the document into smaller chunks for embedding\n",
    "\n",
    "text_splitter=RecursiveCharacterTextSplitter()\n",
    "documents = text_splitter.split_documents(raw_documents)"
   ]
  },
  {
   "cell_type": "code",
   "execution_count": null,
   "id": "8ddc9f84",
   "metadata": {},
   "outputs": [],
   "source": [
    "# Step 3: Generate vector embeddings for each document chunk\n",
    "\n",
    "embeddings= OpenAIEmbeddings(openai_api_key= config.api_key)"
   ]
  },
  {
   "cell_type": "code",
   "execution_count": null,
   "id": "655b0425",
   "metadata": {},
   "outputs": [],
   "source": [
    "# Step 4: Store the embeddings in a FAISS vector store for fast similarity search\n",
    "\n",
    "vector_store=FAISS.from_documents(documents,embeddings)"
   ]
  },
  {
   "cell_type": "code",
   "execution_count": null,
   "id": "1b616669",
   "metadata": {},
   "outputs": [],
   "source": [
    "# Step 5: Set up memory to retain chat history across interactions\n",
    "\n",
    "memory=ConversationBufferMemory(memory_key=\"chat_history\",return_messages=True)"
   ]
  },
  {
   "cell_type": "code",
   "execution_count": null,
   "id": "ab1d3a1a",
   "metadata": {},
   "outputs": [],
   "source": [
    "# Step 6: Create a conversational retrieval chain using a chat model and retriever\n",
    "\n",
    "qa=ConversationalRetrievalChain.from_llm(ChatOpenAI(openai_api_key=config.api_key,\n",
    "                                                    model=\"gpt-4.1-mini\",\n",
    "                                                    temperature=0),\n",
    "                                                    vector_store.as_retriever(),\n",
    "                                                    memory=memory)"
   ]
  },
  {
   "cell_type": "code",
   "execution_count": 18,
   "id": "4493d77a",
   "metadata": {},
   "outputs": [
    {
     "name": "stdout",
     "output_type": "stream",
     "text": [
      "The next course to be uploaded on the 365 Data Science platform is \"Copilot in Excel\" with Ivan Kitov. It is scheduled to launch in September 2025. This course focuses on mastering Microsoft Copilot, an AI-powered assistant built into Excel, and covers tasks such as automating workflows, analyzing datasets, generating formulas, and advanced use cases like Monte Carlo simulations and portfolio optimization.\n"
     ]
    }
   ],
   "source": [
    "query = \"What is the next course to be uploaded on 365 Data Science platform?\"\n",
    "result = qa({'question': query})\n",
    "print(result['answer'])\n"
   ]
  }
 ],
 "metadata": {
  "kernelspec": {
   "display_name": "llm-training-env",
   "language": "python",
   "name": "python3"
  },
  "language_info": {
   "codemirror_mode": {
    "name": "ipython",
    "version": 3
   },
   "file_extension": ".py",
   "mimetype": "text/x-python",
   "name": "python",
   "nbconvert_exporter": "python",
   "pygments_lexer": "ipython3",
   "version": "3.12.11"
  }
 },
 "nbformat": 4,
 "nbformat_minor": 5
}
